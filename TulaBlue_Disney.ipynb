{
  "nbformat": 4,
  "nbformat_minor": 0,
  "metadata": {
    "colab": {
      "provenance": [],
      "authorship_tag": "ABX9TyNj4Q324X2n7SRGPd27+prO",
      "include_colab_link": true
    },
    "kernelspec": {
      "name": "python3",
      "display_name": "Python 3"
    },
    "language_info": {
      "name": "python"
    }
  },
  "cells": [
    {
      "cell_type": "markdown",
      "metadata": {
        "id": "view-in-github",
        "colab_type": "text"
      },
      "source": [
        "<a href=\"https://colab.research.google.com/github/paper-dragonfly/TulaBlue-Labeling-Tool/blob/main/TulaBlue_Disney.ipynb\" target=\"_parent\"><img src=\"https://colab.research.google.com/assets/colab-badge.svg\" alt=\"Open In Colab\"/></a>"
      ]
    },
    {
      "cell_type": "markdown",
      "source": [
        "# **Tula Blue Label Assistant**"
      ],
      "metadata": {
        "id": "Hu0c8cUdcTIR"
      }
    },
    {
      "cell_type": "markdown",
      "source": [
        "Three ways to run this tool:<br/>\n",
        "1. Use the \"Runtime\" > \"Run all\" from the navigation bar at the top of the page. Execution will pause at the #UPLOAD CSV until you choose a file then continue through the end\n",
        "2. Run the cells manually by clicking the play button in the top left of each cell. This may be preferable if you only want to run part of the tool.\n",
        "3. Click through the cells using 'Shift+Enter'. This will play each cell and jump to the next cell. "
      ],
      "metadata": {
        "id": "YZ3bPg0miXsi"
      }
    },
    {
      "cell_type": "markdown",
      "source": [
        "### 1. Genenerate an Acuity schedule CSV\n",
        "Download a csv of the schedule you would like to evaluate. Make sure to save it in a location that will be easy to find. \n",
        "<br/> \n",
        "Note: When downloading the CSV, on the 'export to spreadsheet' page, make sure to select the 'health screening questions'option.  "
      ],
      "metadata": {
        "id": "MvA6oAq5xTHf"
      }
    },
    {
      "cell_type": "markdown",
      "source": [
        "### 2. Upload Acuity Schedule as CSV\n",
        "To upload your schedule, run the cell bellow by clicking the play icon on the top-left of the cell between the square brackets '[ ]' <br>\n",
        "Click the 'Choose Files' button and select a file to upload <br>\n",
        "Wait until the file is 100% uploaded <br><br>\n",
        "The file should be a schedule downloaded from Acuity in CSV format. The file should contain client intake information that will allow this program to identify individuals requiring further labeling\n"
      ],
      "metadata": {
        "id": "NGuxHmSrtWEC"
      }
    },
    {
      "cell_type": "code",
      "execution_count": 35,
      "metadata": {
        "id": "nCO8f1flcRNh",
        "colab": {
          "base_uri": "https://localhost:8080/",
          "height": 74
        },
        "outputId": "1814cd4d-ca3d-43ee-916f-e18dffcbcad9"
      },
      "outputs": [
        {
          "output_type": "display_data",
          "data": {
            "text/plain": [
              "<IPython.core.display.HTML object>"
            ],
            "text/html": [
              "\n",
              "     <input type=\"file\" id=\"files-d369dab6-ea68-4a0e-b051-4e0a21837662\" name=\"files[]\" multiple disabled\n",
              "        style=\"border:none\" />\n",
              "     <output id=\"result-d369dab6-ea68-4a0e-b051-4e0a21837662\">\n",
              "      Upload widget is only available when the cell has been executed in the\n",
              "      current browser session. Please rerun this cell to enable.\n",
              "      </output>\n",
              "      <script>// Copyright 2017 Google LLC\n",
              "//\n",
              "// Licensed under the Apache License, Version 2.0 (the \"License\");\n",
              "// you may not use this file except in compliance with the License.\n",
              "// You may obtain a copy of the License at\n",
              "//\n",
              "//      http://www.apache.org/licenses/LICENSE-2.0\n",
              "//\n",
              "// Unless required by applicable law or agreed to in writing, software\n",
              "// distributed under the License is distributed on an \"AS IS\" BASIS,\n",
              "// WITHOUT WARRANTIES OR CONDITIONS OF ANY KIND, either express or implied.\n",
              "// See the License for the specific language governing permissions and\n",
              "// limitations under the License.\n",
              "\n",
              "/**\n",
              " * @fileoverview Helpers for google.colab Python module.\n",
              " */\n",
              "(function(scope) {\n",
              "function span(text, styleAttributes = {}) {\n",
              "  const element = document.createElement('span');\n",
              "  element.textContent = text;\n",
              "  for (const key of Object.keys(styleAttributes)) {\n",
              "    element.style[key] = styleAttributes[key];\n",
              "  }\n",
              "  return element;\n",
              "}\n",
              "\n",
              "// Max number of bytes which will be uploaded at a time.\n",
              "const MAX_PAYLOAD_SIZE = 100 * 1024;\n",
              "\n",
              "function _uploadFiles(inputId, outputId) {\n",
              "  const steps = uploadFilesStep(inputId, outputId);\n",
              "  const outputElement = document.getElementById(outputId);\n",
              "  // Cache steps on the outputElement to make it available for the next call\n",
              "  // to uploadFilesContinue from Python.\n",
              "  outputElement.steps = steps;\n",
              "\n",
              "  return _uploadFilesContinue(outputId);\n",
              "}\n",
              "\n",
              "// This is roughly an async generator (not supported in the browser yet),\n",
              "// where there are multiple asynchronous steps and the Python side is going\n",
              "// to poll for completion of each step.\n",
              "// This uses a Promise to block the python side on completion of each step,\n",
              "// then passes the result of the previous step as the input to the next step.\n",
              "function _uploadFilesContinue(outputId) {\n",
              "  const outputElement = document.getElementById(outputId);\n",
              "  const steps = outputElement.steps;\n",
              "\n",
              "  const next = steps.next(outputElement.lastPromiseValue);\n",
              "  return Promise.resolve(next.value.promise).then((value) => {\n",
              "    // Cache the last promise value to make it available to the next\n",
              "    // step of the generator.\n",
              "    outputElement.lastPromiseValue = value;\n",
              "    return next.value.response;\n",
              "  });\n",
              "}\n",
              "\n",
              "/**\n",
              " * Generator function which is called between each async step of the upload\n",
              " * process.\n",
              " * @param {string} inputId Element ID of the input file picker element.\n",
              " * @param {string} outputId Element ID of the output display.\n",
              " * @return {!Iterable<!Object>} Iterable of next steps.\n",
              " */\n",
              "function* uploadFilesStep(inputId, outputId) {\n",
              "  const inputElement = document.getElementById(inputId);\n",
              "  inputElement.disabled = false;\n",
              "\n",
              "  const outputElement = document.getElementById(outputId);\n",
              "  outputElement.innerHTML = '';\n",
              "\n",
              "  const pickedPromise = new Promise((resolve) => {\n",
              "    inputElement.addEventListener('change', (e) => {\n",
              "      resolve(e.target.files);\n",
              "    });\n",
              "  });\n",
              "\n",
              "  const cancel = document.createElement('button');\n",
              "  inputElement.parentElement.appendChild(cancel);\n",
              "  cancel.textContent = 'Cancel upload';\n",
              "  const cancelPromise = new Promise((resolve) => {\n",
              "    cancel.onclick = () => {\n",
              "      resolve(null);\n",
              "    };\n",
              "  });\n",
              "\n",
              "  // Wait for the user to pick the files.\n",
              "  const files = yield {\n",
              "    promise: Promise.race([pickedPromise, cancelPromise]),\n",
              "    response: {\n",
              "      action: 'starting',\n",
              "    }\n",
              "  };\n",
              "\n",
              "  cancel.remove();\n",
              "\n",
              "  // Disable the input element since further picks are not allowed.\n",
              "  inputElement.disabled = true;\n",
              "\n",
              "  if (!files) {\n",
              "    return {\n",
              "      response: {\n",
              "        action: 'complete',\n",
              "      }\n",
              "    };\n",
              "  }\n",
              "\n",
              "  for (const file of files) {\n",
              "    const li = document.createElement('li');\n",
              "    li.append(span(file.name, {fontWeight: 'bold'}));\n",
              "    li.append(span(\n",
              "        `(${file.type || 'n/a'}) - ${file.size} bytes, ` +\n",
              "        `last modified: ${\n",
              "            file.lastModifiedDate ? file.lastModifiedDate.toLocaleDateString() :\n",
              "                                    'n/a'} - `));\n",
              "    const percent = span('0% done');\n",
              "    li.appendChild(percent);\n",
              "\n",
              "    outputElement.appendChild(li);\n",
              "\n",
              "    const fileDataPromise = new Promise((resolve) => {\n",
              "      const reader = new FileReader();\n",
              "      reader.onload = (e) => {\n",
              "        resolve(e.target.result);\n",
              "      };\n",
              "      reader.readAsArrayBuffer(file);\n",
              "    });\n",
              "    // Wait for the data to be ready.\n",
              "    let fileData = yield {\n",
              "      promise: fileDataPromise,\n",
              "      response: {\n",
              "        action: 'continue',\n",
              "      }\n",
              "    };\n",
              "\n",
              "    // Use a chunked sending to avoid message size limits. See b/62115660.\n",
              "    let position = 0;\n",
              "    do {\n",
              "      const length = Math.min(fileData.byteLength - position, MAX_PAYLOAD_SIZE);\n",
              "      const chunk = new Uint8Array(fileData, position, length);\n",
              "      position += length;\n",
              "\n",
              "      const base64 = btoa(String.fromCharCode.apply(null, chunk));\n",
              "      yield {\n",
              "        response: {\n",
              "          action: 'append',\n",
              "          file: file.name,\n",
              "          data: base64,\n",
              "        },\n",
              "      };\n",
              "\n",
              "      let percentDone = fileData.byteLength === 0 ?\n",
              "          100 :\n",
              "          Math.round((position / fileData.byteLength) * 100);\n",
              "      percent.textContent = `${percentDone}% done`;\n",
              "\n",
              "    } while (position < fileData.byteLength);\n",
              "  }\n",
              "\n",
              "  // All done.\n",
              "  yield {\n",
              "    response: {\n",
              "      action: 'complete',\n",
              "    }\n",
              "  };\n",
              "}\n",
              "\n",
              "scope.google = scope.google || {};\n",
              "scope.google.colab = scope.google.colab || {};\n",
              "scope.google.colab._files = {\n",
              "  _uploadFiles,\n",
              "  _uploadFilesContinue,\n",
              "};\n",
              "})(self);\n",
              "</script> "
            ]
          },
          "metadata": {}
        },
        {
          "output_type": "stream",
          "name": "stdout",
          "text": [
            "Saving tula_test.csv to tula_test.csv\n"
          ]
        }
      ],
      "source": [
        "# UPLOAD CSV\n",
        "from google.colab import files\n",
        "uploaded = files.upload()"
      ]
    },
    {
      "cell_type": "markdown",
      "source": [
        "### 3. Run Script Code\n",
        "Run the cell below. "
      ],
      "metadata": {
        "id": "1bZaEunbC7zj"
      }
    },
    {
      "cell_type": "code",
      "source": [
        "import pandas as pd\n",
        "import io\n",
        "\n",
        "csv_filename = list(uploaded.keys())[0]\n",
        "df_schedule = pd.read_csv(io.BytesIO(uploaded[csv_filename]))\n",
        "\n",
        "def flag_clients(file_df):\n",
        "  flagged = {'first_name': [], 'last_name': [], 'details':[]}\n",
        "  for index, row in file_df.iterrows():\n",
        "      flag = False\n",
        "      condition_details = \"\"\n",
        "      injury_or_surgery = row['Have you, in the last year, had an injury or surgery?']\n",
        "      cleared = row['If yes, have you been cleared by your doctor to receive massage therapy? ']\n",
        "      health_condition = row['Do you have any current health condition(s) of which we should be aware?']\n",
        "      what_condition = row['If yes, please describe your current health condition(s) below.']\n",
        "      check_box_condition = row['Check all that apply. Do you have or suffer from:']\n",
        "\n",
        "      ## Include patients with recent surgeries/injuries who ARE cleared by doctor to receive massage therapy? \n",
        "      ## NO\n",
        "      # if injury_or_surgery =='yes' and cleared =='no':\n",
        "      #   flag = True\n",
        "      #   condition_details = 'Recent injury or surgery, NOT cleared by doctor to receive massage therapy'\n",
        "      \n",
        "      ## YES\n",
        "      if injury_or_surgery == 'yes':\n",
        "        flag = True\n",
        "        condition_details += 'Recent injury or surgery '\n",
        "        if cleared == 'no':\n",
        "            condition_details += 'NOT cleared by doctor. '\n",
        "        else:\n",
        "          condition_details += 'Cleared by doctor. '\n",
        "        \n",
        "      if health_condition == 'yes':\n",
        "          flag = True\n",
        "          condition_details += f'Health condition: {what_condition}. '\n",
        "      if check_box_condition != 'I do NOT have or suffer from any of the above conditions.':\n",
        "          flag = True\n",
        "          condition_details += f'Checkbox condition(s): {check_box_condition}'\n",
        "      if flag:\n",
        "          flagged['first_name'].append(row['First Name'])\n",
        "          flagged['last_name'].append(row['Last Name'])\n",
        "          flagged['details'].append(condition_details)\n",
        "  return flagged\n",
        "\n",
        "flagged_clients = flag_clients(df_schedule)\n",
        "\n",
        "df_flagged_clients = pd.DataFrame(flagged_clients)\n",
        "col_heads = ['First Name', 'Last Name', 'Condition Details']\n",
        "df_flagged_clients.columns = col_heads"
      ],
      "metadata": {
        "id": "Cgy-JA_5r6wW"
      },
      "execution_count": 36,
      "outputs": []
    },
    {
      "cell_type": "markdown",
      "source": [
        "## 4. Generate Flagged Clients List\n"
      ],
      "metadata": {
        "id": "l72aCj6rBbde"
      }
    },
    {
      "cell_type": "markdown",
      "source": [
        "Clients who indicated on their intake form a condition the therapis shouold be aware of"
      ],
      "metadata": {
        "id": "zSTDv-0XLzOG"
      }
    },
    {
      "cell_type": "code",
      "source": [
        "df_flagged_clients"
      ],
      "metadata": {
        "colab": {
          "base_uri": "https://localhost:8080/",
          "height": 238
        },
        "id": "FFfW0ds5Bdsz",
        "outputId": "5fb17e5c-2432-4239-98e4-7a4429cab033"
      },
      "execution_count": 37,
      "outputs": [
        {
          "output_type": "execute_result",
          "data": {
            "text/plain": [
              "  First Name Last Name                                 Condition Details\n",
              "0      Peter       Pan      Health condition: lower back pain sciatia . \n",
              "1     Donald      Duck      Recent injury or surgery Cleared by doctor. \n",
              "2       Snow     White  Health condition: Arrythmia, take metoprolol  . \n",
              "3     Tinker      Bell      Recent injury or surgery Cleared by doctor. \n",
              "4      Simba  Lionking      Checkbox condition(s): High blood pressure. \n",
              "5     Mickey     Mouse      Recent injury or surgery Cleared by doctor. "
            ],
            "text/html": [
              "\n",
              "  <div id=\"df-f71ff52e-3ce6-4d74-855e-8d02ab4942c3\">\n",
              "    <div class=\"colab-df-container\">\n",
              "      <div>\n",
              "<style scoped>\n",
              "    .dataframe tbody tr th:only-of-type {\n",
              "        vertical-align: middle;\n",
              "    }\n",
              "\n",
              "    .dataframe tbody tr th {\n",
              "        vertical-align: top;\n",
              "    }\n",
              "\n",
              "    .dataframe thead th {\n",
              "        text-align: right;\n",
              "    }\n",
              "</style>\n",
              "<table border=\"1\" class=\"dataframe\">\n",
              "  <thead>\n",
              "    <tr style=\"text-align: right;\">\n",
              "      <th></th>\n",
              "      <th>First Name</th>\n",
              "      <th>Last Name</th>\n",
              "      <th>Condition Details</th>\n",
              "    </tr>\n",
              "  </thead>\n",
              "  <tbody>\n",
              "    <tr>\n",
              "      <th>0</th>\n",
              "      <td>Peter</td>\n",
              "      <td>Pan</td>\n",
              "      <td>Health condition: lower back pain sciatia .</td>\n",
              "    </tr>\n",
              "    <tr>\n",
              "      <th>1</th>\n",
              "      <td>Donald</td>\n",
              "      <td>Duck</td>\n",
              "      <td>Recent injury or surgery Cleared by doctor.</td>\n",
              "    </tr>\n",
              "    <tr>\n",
              "      <th>2</th>\n",
              "      <td>Snow</td>\n",
              "      <td>White</td>\n",
              "      <td>Health condition: Arrythmia, take metoprolol  .</td>\n",
              "    </tr>\n",
              "    <tr>\n",
              "      <th>3</th>\n",
              "      <td>Tinker</td>\n",
              "      <td>Bell</td>\n",
              "      <td>Recent injury or surgery Cleared by doctor.</td>\n",
              "    </tr>\n",
              "    <tr>\n",
              "      <th>4</th>\n",
              "      <td>Simba</td>\n",
              "      <td>Lionking</td>\n",
              "      <td>Checkbox condition(s): High blood pressure.</td>\n",
              "    </tr>\n",
              "    <tr>\n",
              "      <th>5</th>\n",
              "      <td>Mickey</td>\n",
              "      <td>Mouse</td>\n",
              "      <td>Recent injury or surgery Cleared by doctor.</td>\n",
              "    </tr>\n",
              "  </tbody>\n",
              "</table>\n",
              "</div>\n",
              "      <button class=\"colab-df-convert\" onclick=\"convertToInteractive('df-f71ff52e-3ce6-4d74-855e-8d02ab4942c3')\"\n",
              "              title=\"Convert this dataframe to an interactive table.\"\n",
              "              style=\"display:none;\">\n",
              "        \n",
              "  <svg xmlns=\"http://www.w3.org/2000/svg\" height=\"24px\"viewBox=\"0 0 24 24\"\n",
              "       width=\"24px\">\n",
              "    <path d=\"M0 0h24v24H0V0z\" fill=\"none\"/>\n",
              "    <path d=\"M18.56 5.44l.94 2.06.94-2.06 2.06-.94-2.06-.94-.94-2.06-.94 2.06-2.06.94zm-11 1L8.5 8.5l.94-2.06 2.06-.94-2.06-.94L8.5 2.5l-.94 2.06-2.06.94zm10 10l.94 2.06.94-2.06 2.06-.94-2.06-.94-.94-2.06-.94 2.06-2.06.94z\"/><path d=\"M17.41 7.96l-1.37-1.37c-.4-.4-.92-.59-1.43-.59-.52 0-1.04.2-1.43.59L10.3 9.45l-7.72 7.72c-.78.78-.78 2.05 0 2.83L4 21.41c.39.39.9.59 1.41.59.51 0 1.02-.2 1.41-.59l7.78-7.78 2.81-2.81c.8-.78.8-2.07 0-2.86zM5.41 20L4 18.59l7.72-7.72 1.47 1.35L5.41 20z\"/>\n",
              "  </svg>\n",
              "      </button>\n",
              "      \n",
              "  <style>\n",
              "    .colab-df-container {\n",
              "      display:flex;\n",
              "      flex-wrap:wrap;\n",
              "      gap: 12px;\n",
              "    }\n",
              "\n",
              "    .colab-df-convert {\n",
              "      background-color: #E8F0FE;\n",
              "      border: none;\n",
              "      border-radius: 50%;\n",
              "      cursor: pointer;\n",
              "      display: none;\n",
              "      fill: #1967D2;\n",
              "      height: 32px;\n",
              "      padding: 0 0 0 0;\n",
              "      width: 32px;\n",
              "    }\n",
              "\n",
              "    .colab-df-convert:hover {\n",
              "      background-color: #E2EBFA;\n",
              "      box-shadow: 0px 1px 2px rgba(60, 64, 67, 0.3), 0px 1px 3px 1px rgba(60, 64, 67, 0.15);\n",
              "      fill: #174EA6;\n",
              "    }\n",
              "\n",
              "    [theme=dark] .colab-df-convert {\n",
              "      background-color: #3B4455;\n",
              "      fill: #D2E3FC;\n",
              "    }\n",
              "\n",
              "    [theme=dark] .colab-df-convert:hover {\n",
              "      background-color: #434B5C;\n",
              "      box-shadow: 0px 1px 3px 1px rgba(0, 0, 0, 0.15);\n",
              "      filter: drop-shadow(0px 1px 2px rgba(0, 0, 0, 0.3));\n",
              "      fill: #FFFFFF;\n",
              "    }\n",
              "  </style>\n",
              "\n",
              "      <script>\n",
              "        const buttonEl =\n",
              "          document.querySelector('#df-f71ff52e-3ce6-4d74-855e-8d02ab4942c3 button.colab-df-convert');\n",
              "        buttonEl.style.display =\n",
              "          google.colab.kernel.accessAllowed ? 'block' : 'none';\n",
              "\n",
              "        async function convertToInteractive(key) {\n",
              "          const element = document.querySelector('#df-f71ff52e-3ce6-4d74-855e-8d02ab4942c3');\n",
              "          const dataTable =\n",
              "            await google.colab.kernel.invokeFunction('convertToInteractive',\n",
              "                                                     [key], {});\n",
              "          if (!dataTable) return;\n",
              "\n",
              "          const docLinkHtml = 'Like what you see? Visit the ' +\n",
              "            '<a target=\"_blank\" href=https://colab.research.google.com/notebooks/data_table.ipynb>data table notebook</a>'\n",
              "            + ' to learn more about interactive tables.';\n",
              "          element.innerHTML = '';\n",
              "          dataTable['output_type'] = 'display_data';\n",
              "          await google.colab.output.renderOutput(dataTable, element);\n",
              "          const docLink = document.createElement('div');\n",
              "          docLink.innerHTML = docLinkHtml;\n",
              "          element.appendChild(docLink);\n",
              "        }\n",
              "      </script>\n",
              "    </div>\n",
              "  </div>\n",
              "  "
            ]
          },
          "metadata": {},
          "execution_count": 37
        }
      ]
    },
    {
      "cell_type": "markdown",
      "source": [
        "## 5. Export Flagged Clients to PDF\n",
        "The PDF will appear under the documents tab on the left of the screen with the name 'flagged_{csv_filename}.pdf' where csv_filename is the name of the schedule file you imported above. To download the PDF, hover over the file, click the menu (three vertical dots) and select 'Download'. "
      ],
      "metadata": {
        "id": "1TexA2T4ke6q"
      }
    },
    {
      "cell_type": "code",
      "source": [
        "import pandas as pd\n",
        "import numpy as np\n",
        "import matplotlib.pyplot as plt\n",
        "from matplotlib.backends.backend_pdf import PdfPages\n",
        "\n",
        "df = df_flagged_clients\n",
        "num_rows = df.shape[0]\n",
        "\n",
        "fig, ax =plt.subplots(figsize=(num_rows+1,4))\n",
        "ax.axis('tight')\n",
        "ax.axis('off')\n",
        "the_table = ax.table(cellText=df.values,colLabels=df.columns,loc='center')\n",
        "\n",
        "\n",
        "pp = PdfPages(f\"flagged_{csv_filename}.pdf\")\n",
        "pp.savefig(fig, bbox_inches='tight')\n",
        "pp.close()\n"
      ],
      "metadata": {
        "id": "cg6OYrKI5duO",
        "colab": {
          "base_uri": "https://localhost:8080/",
          "height": 345
        },
        "outputId": "636c392c-eed8-4621-a23a-85863a3c0592"
      },
      "execution_count": 40,
      "outputs": [
        {
          "output_type": "display_data",
          "data": {
            "text/plain": [
              "<Figure size 700x400 with 1 Axes>"
            ],
            "image/png": "[encoded data removed]"
          },
          "metadata": {}
        }
      ]
    },
    {
      "cell_type": "markdown",
      "source": [
        "## 6. View Schedule Statistics"
      ],
      "metadata": {
        "id": "9RNF1i780bOx"
      }
    },
    {
      "cell_type": "code",
      "source": [
        "import pandas as pd\n",
        "import io\n",
        "\n",
        "csv_filename = list(uploaded.keys())[0]\n",
        "df  = pd.read_csv(io.BytesIO(uploaded[csv_filename]))\n",
        "\n",
        "num_clients = df.shape[0]\n",
        "service_types = {}\n",
        "for index, row in df.iterrows():\n",
        "  if not row['Type'] in service_types:\n",
        "    service_types[row['Type']] = 1\n",
        "  else:\n",
        "    service_types[row['Type']] += 1\n",
        "\n",
        "print(f'Number of clients: {num_clients} \\n')\n",
        "\n",
        "print('Service Type Talley')\n",
        "for key, val in service_types.items():\n",
        "  print(key, ':',val)\n",
        "# print(service_types) \n",
        "\n",
        "massage_types = {}\n",
        "\n",
        "for index, row in df.iterrows():\n",
        "  mt = row['Please select which type of massage you want to receive:']\n",
        "  if not mt in massage_types:\n",
        "    massage_types[mt] = 1\n",
        "  else:\n",
        "    massage_types[mt] += 1\n",
        "\n",
        "print('\\nMassage Type Talley')\n",
        "for key, val in massage_types.items():\n",
        "  print(key,':', val)\n",
        "\n",
        "\n",
        "percent_labeled = round(df_flagged_clients.shape[0]/num_clients*100)\n",
        "print(f\"\\nPercent of clients requiring labeling: {percent_labeled}%\")"
      ],
      "metadata": {
        "colab": {
          "base_uri": "https://localhost:8080/"
        },
        "id": "F8bsnF7wq-w2",
        "outputId": "bf9fd0c8-6ba5-49ed-b7cd-40347e29c7dc"
      },
      "execution_count": 41,
      "outputs": [
        {
          "output_type": "stream",
          "name": "stdout",
          "text": [
            "Number of clients: 46 \n",
            "\n",
            "Service Type Talley\n",
            "Disney Health Awareness Week : 46\n",
            "\n",
            "Massage Type Talley\n",
            "Upper Back/Neck/Shoulder : 24\n",
            "Full Back Chair Massage : 19\n",
            "Low Back/Hip/Leg : 3\n",
            "\n",
            "Percent of clients requiring labeling: 13%\n"
          ]
        }
      ]
    }
  ]
}